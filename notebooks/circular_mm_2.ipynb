{
 "cells": [
  {
   "cell_type": "markdown",
   "id": "c4989fa2",
   "metadata": {},
   "source": [
    "# Why does the Circulant Convolution Theorem not hold as I expect?"
   ]
  },
  {
   "cell_type": "code",
   "execution_count": 1,
   "id": "e6806f65",
   "metadata": {},
   "outputs": [],
   "source": [
    "import numpy as np\n",
    "from scipy.fft import fft, ifft\n",
    "from scipy.signal import convolve"
   ]
  },
  {
   "cell_type": "markdown",
   "id": "bcb7343d",
   "metadata": {},
   "source": [
    "## Example of how it does not hold"
   ]
  },
  {
   "cell_type": "code",
   "execution_count": 2,
   "id": "c33aaf83",
   "metadata": {},
   "outputs": [
    {
     "data": {
      "text/plain": [
       "array([[31.],\n",
       "       [31.],\n",
       "       [28.]], dtype=float32)"
      ]
     },
     "execution_count": 2,
     "metadata": {},
     "output_type": "execute_result"
    }
   ],
   "source": [
    "a = np.array([[1, 2, 3]]).astype(np.float32)\n",
    "A = np.array([ # Circulant matrix\n",
    "    [1, 3, 2],\n",
    "    [2, 1, 3],\n",
    "    [3, 2, 1]\n",
    "]).astype(np.float32)\n",
    "\n",
    "b = np.array([[4.0, 5.0, 6.0]]).astype(np.float32)\n",
    "\n",
    "# Matrix-vector multiplication\n",
    "A @ b.T"
   ]
  },
  {
   "cell_type": "code",
   "execution_count": 3,
   "id": "8aa33c09",
   "metadata": {},
   "outputs": [
    {
     "data": {
      "text/plain": [
       "array([[31.+0.j, 31.+0.j, 28.-0.j]], dtype=complex64)"
      ]
     },
     "execution_count": 3,
     "metadata": {},
     "output_type": "execute_result"
    }
   ],
   "source": [
    "# FFT-multiplication\n",
    "a_fft = fft(a, axis=-1)\n",
    "b_fft = fft(b, axis=-1)\n",
    "c_fft = a_fft * b_fft\n",
    "ifft(c_fft, axis=-1)"
   ]
  },
  {
   "cell_type": "markdown",
   "id": "89d18ffa",
   "metadata": {},
   "source": [
    "# Answer: Axis=0 is important"
   ]
  },
  {
   "cell_type": "code",
   "execution_count": 4,
   "id": "2f1c5b8f",
   "metadata": {},
   "outputs": [
    {
     "data": {
      "text/plain": [
       "(1, 3)"
      ]
     },
     "execution_count": 4,
     "metadata": {},
     "output_type": "execute_result"
    }
   ],
   "source": [
    "a.shape"
   ]
  },
  {
   "cell_type": "code",
   "execution_count": 5,
   "id": "827952af",
   "metadata": {},
   "outputs": [
    {
     "data": {
      "text/plain": [
       "(1, 3)"
      ]
     },
     "execution_count": 5,
     "metadata": {},
     "output_type": "execute_result"
    }
   ],
   "source": [
    "a_fft.shape"
   ]
  },
  {
   "cell_type": "code",
   "execution_count": 6,
   "id": "c7df2993",
   "metadata": {},
   "outputs": [
    {
     "data": {
      "text/plain": [
       "(1, 3)"
      ]
     },
     "execution_count": 6,
     "metadata": {},
     "output_type": "execute_result"
    }
   ],
   "source": [
    "fft(a).shape"
   ]
  },
  {
   "cell_type": "code",
   "execution_count": 7,
   "id": "19a663a7",
   "metadata": {},
   "outputs": [
    {
     "data": {
      "text/plain": [
       "(1, 3)"
      ]
     },
     "execution_count": 7,
     "metadata": {},
     "output_type": "execute_result"
    }
   ],
   "source": [
    "fft(a, axis=0).shape"
   ]
  },
  {
   "cell_type": "code",
   "execution_count": 8,
   "id": "24b90e91",
   "metadata": {},
   "outputs": [
    {
     "data": {
      "text/plain": [
       "array([1.-0.j], dtype=complex64)"
      ]
     },
     "execution_count": 8,
     "metadata": {},
     "output_type": "execute_result"
    }
   ],
   "source": [
    "fft(a[:, 0])"
   ]
  },
  {
   "cell_type": "code",
   "execution_count": 9,
   "id": "f1b2f98d",
   "metadata": {},
   "outputs": [
    {
     "data": {
      "text/plain": [
       "array([[1.-0.j, 2.-0.j, 3.-0.j]], dtype=complex64)"
      ]
     },
     "execution_count": 9,
     "metadata": {},
     "output_type": "execute_result"
    }
   ],
   "source": [
    "fft(a, axis=0)"
   ]
  },
  {
   "cell_type": "markdown",
   "id": "e4be7318",
   "metadata": {},
   "source": [
    "# Larger shape example"
   ]
  },
  {
   "cell_type": "code",
   "execution_count": 18,
   "id": "80613439",
   "metadata": {},
   "outputs": [],
   "source": [
    "def make_circulant(a):\n",
    "    n = a.shape[-1] # event shape\n",
    "    new_a = np.zeros(a.shape + (a.shape[-1],))\n",
    "    for i_posterior_sample in range(a.shape[0]):\n",
    "        for i_data_sample in range(a.shape[1]):\n",
    "            vector = a[i_posterior_sample, i_data_sample]\n",
    "            new_a[i_posterior_sample, i_data_sample] = np.array([\n",
    "                np.roll(vector, i)\n",
    "                for i in range(n)\n",
    "            ]).T\n",
    "    return new_a\n",
    "\n",
    "batch_shape = (100, 3)\n",
    "event_shape = (4,)\n",
    "total_shape = batch_shape + event_shape\n",
    "a = np.random.randn(*total_shape)\n",
    "A = make_circulant(a)\n",
    "b = np.random.randn(2,4) # two points of 4 features"
   ]
  },
  {
   "cell_type": "code",
   "execution_count": 19,
   "id": "86597b48",
   "metadata": {},
   "outputs": [
    {
     "data": {
      "text/plain": [
       "((100, 3, 4), (100, 3, 4, 4), (2, 4), (100, 3, 2, 4))"
      ]
     },
     "execution_count": 19,
     "metadata": {},
     "output_type": "execute_result"
    }
   ],
   "source": [
    "a.shape, A.shape, b.shape, (b @ A).shape\n",
    "# Before, fft was in event shape "
   ]
  },
  {
   "cell_type": "code",
   "execution_count": 65,
   "id": "09f94dc3",
   "metadata": {},
   "outputs": [
    {
     "data": {
      "text/plain": [
       "(100, 3, 2, 4)"
      ]
     },
     "execution_count": 65,
     "metadata": {},
     "output_type": "execute_result"
    }
   ],
   "source": [
    "(b @ A).shape\n"
   ]
  },
  {
   "cell_type": "code",
   "execution_count": 13,
   "id": "b092e489",
   "metadata": {},
   "outputs": [
    {
     "name": "stdout",
     "output_type": "stream",
     "text": [
      "[[[-0.83285108  5.64374111 -4.60528807 -0.51174403]\n",
      "  [-1.83441373  0.27650238  2.09021669 -3.05863214]]\n",
      "\n",
      " [[ 1.92100202 -2.40551611 -1.52590973  0.64651272]\n",
      "  [-1.70363484 -1.61176604 -4.23350825 -3.70627455]]\n",
      "\n",
      " [[ 0.61268049 -4.333021    4.18417123 -0.94828887]\n",
      "  [-0.726772   -1.7199233  -2.72040372  1.16928327]]]\n"
     ]
    },
    {
     "ename": "ValueError",
     "evalue": "matmul: Input operand 1 has a mismatch in its core dimension 0, with gufunc signature (n?,k),(k,m?)->(n?,m?) (size 2 is different from 4)",
     "output_type": "error",
     "traceback": [
      "\u001b[0;31m---------------------------------------------------------------------------\u001b[0m",
      "\u001b[0;31mValueError\u001b[0m                                Traceback (most recent call last)",
      "Cell \u001b[0;32mIn[13], line 9\u001b[0m\n\u001b[1;32m      6\u001b[0m \u001b[38;5;28;01melse\u001b[39;00m:\n\u001b[1;32m      7\u001b[0m     \u001b[38;5;28mprint\u001b[39m(r)\n\u001b[0;32m----> 9\u001b[0m \u001b[38;5;28;01mif\u001b[39;00m \u001b[38;5;129;01mnot\u001b[39;00m np\u001b[38;5;241m.\u001b[39mallclose(r, \u001b[43mA\u001b[49m\u001b[43m \u001b[49m\u001b[38;5;241;43m@\u001b[39;49m\u001b[43m \u001b[49m\u001b[43mb\u001b[49m):\n\u001b[1;32m     10\u001b[0m     \u001b[38;5;28mprint\u001b[39m(\u001b[38;5;124m\"\u001b[39m\u001b[38;5;124mNot equal\u001b[39m\u001b[38;5;124m\"\u001b[39m)\n",
      "\u001b[0;31mValueError\u001b[0m: matmul: Input operand 1 has a mismatch in its core dimension 0, with gufunc signature (n?,k),(k,m?)->(n?,m?) (size 2 is different from 4)"
     ]
    }
   ],
   "source": [
    "a_fft = fft(a, axis=-1)\n",
    "b_fft = fft(b, axis=-1)\n",
    "r = (ifft(np.einsum(\"ad,bcd->bcad\", b_fft, a_fft), axis=-1))[8]\n",
    "if np.allclose(np.imag(r), 0):\n",
    "    print(np.real(r))\n",
    "else:\n",
    "    print(r)\n",
    "\n",
    "if not np.allclose(r, A @ b):\n",
    "    print(\"Not equal\")"
   ]
  },
  {
   "cell_type": "code",
   "execution_count": 17,
   "id": "f894e303",
   "metadata": {},
   "outputs": [
    {
     "ename": "ValueError",
     "evalue": "operands could not be broadcast together with shapes (100,3,4) (2,4) ",
     "output_type": "error",
     "traceback": [
      "\u001b[0;31m---------------------------------------------------------------------------\u001b[0m",
      "\u001b[0;31mValueError\u001b[0m                                Traceback (most recent call last)",
      "Cell \u001b[0;32mIn[17], line 2\u001b[0m\n\u001b[1;32m      1\u001b[0m first_a \u001b[38;5;241m=\u001b[39m a[\u001b[38;5;241m0\u001b[39m, \u001b[38;5;241m0\u001b[39m]\n\u001b[0;32m----> 2\u001b[0m ifft(\u001b[43mfft\u001b[49m\u001b[43m(\u001b[49m\u001b[43ma\u001b[49m\u001b[43m)\u001b[49m\u001b[43m \u001b[49m\u001b[38;5;241;43m*\u001b[39;49m\u001b[43m \u001b[49m\u001b[43mfft\u001b[49m\u001b[43m(\u001b[49m\u001b[43mb\u001b[49m\u001b[43m)\u001b[49m)\n",
      "\u001b[0;31mValueError\u001b[0m: operands could not be broadcast together with shapes (100,3,4) (2,4) "
     ]
    }
   ],
   "source": [
    "first_a = a[0, 0]\n",
    "ifft(fft(a) * fft(b))\n"
   ]
  },
  {
   "cell_type": "code",
   "execution_count": 14,
   "id": "20f6d80b",
   "metadata": {},
   "outputs": [
    {
     "data": {
      "text/plain": [
       "(array([-0.28392885,  0.17000811,  1.23580274,  0.0095501 ]),\n",
       " array([[-0.28392885,  0.0095501 ,  1.23580274,  0.17000811],\n",
       "        [ 0.17000811, -0.28392885,  0.0095501 ,  1.23580274],\n",
       "        [ 1.23580274,  0.17000811, -0.28392885,  0.0095501 ],\n",
       "        [ 0.0095501 ,  1.23580274,  0.17000811, -0.28392885]]))"
      ]
     },
     "execution_count": 14,
     "metadata": {},
     "output_type": "execute_result"
    }
   ],
   "source": [
    "a[0, 0], A[0, 0]"
   ]
  },
  {
   "cell_type": "code",
   "execution_count": null,
   "id": "47bab1bf",
   "metadata": {},
   "outputs": [],
   "source": []
  },
  {
   "cell_type": "code",
   "execution_count": 156,
   "id": "388352ff",
   "metadata": {},
   "outputs": [
    {
     "name": "stdout",
     "output_type": "stream",
     "text": [
      "True [[[ 0.52363488 -1.22758976 -1.52798296 ...  0.58603447  1.87662215\n",
      "   -0.91758101]\n",
      "  [-0.73852423  3.48728588  0.00640592 ... -0.7024551   1.11640747\n",
      "   -0.49100923]]\n",
      "\n",
      " [[-0.19353404  1.03899735  0.25784952 ... -0.52844942  0.68942005\n",
      "    0.52613533]\n",
      "  [-0.12143285 -0.05526067 -0.42424787 ...  1.35173033 -2.13052846\n",
      "    0.95097287]]\n",
      "\n",
      " [[-2.60520184 -0.86420335  1.38326298 ... -1.44966662 -1.20475083\n",
      "    1.79842337]\n",
      "  [ 3.81754251 -1.84309725  2.55036778 ... -1.63255769  3.28272146\n",
      "   -2.69400548]]\n",
      "\n",
      " ...\n",
      "\n",
      " [[ 2.00688185 -1.35599455 -1.685945   ...  1.82425295 -1.83505736\n",
      "   -2.44084453]\n",
      "  [-0.39432464 -1.07327163  1.14458065 ... -0.59898019  1.6397398\n",
      "    1.0854409 ]]\n",
      "\n",
      " [[ 0.30695137  2.55152962  1.11180408 ...  0.15822114 -1.40297139\n",
      "   -0.44882345]\n",
      "  [-1.70539472 -1.09572393 -2.26190555 ... -1.60104401  3.64273383\n",
      "   -1.31578524]]\n",
      "\n",
      " [[-1.41233115 -0.8736664   1.43804932 ...  0.66559273 -1.99580553\n",
      "   -0.51885394]\n",
      "  [-0.21034882  1.46260396 -1.13345477 ... -1.17227253  1.71510204\n",
      "   -0.52017019]]]\n",
      "FFT-based [[[ 0.52363488 -0.73852423 -1.22758976 ... -0.34181591  0.66377294\n",
      "    0.23694867]\n",
      "  [-0.36407149 -0.19531766 -0.91617437 ...  1.11640747 -0.91758101\n",
      "   -0.49100923]]\n",
      "\n",
      " [[-0.19353404 -0.12143285  1.03899735 ...  0.74912699  1.26007233\n",
      "    0.17605406]\n",
      "  [-1.62438439  1.32497681 -2.18131337 ... -2.13052846  0.52613533\n",
      "    0.95097287]]\n",
      "\n",
      " [[-2.60520184  3.81754251 -0.86420335 ...  2.63174845 -1.18246481\n",
      "   -0.31563859]\n",
      "  [ 0.95429998  1.70249991  0.92081008 ...  3.28272146  1.79842337\n",
      "   -2.69400548]]\n",
      "\n",
      " ...\n",
      "\n",
      " [[ 2.00688185 -0.39432464 -1.35599455 ... -1.82400458 -2.4460903\n",
      "    4.06606396]\n",
      "  [-2.65767173 -0.02016854  0.37275029 ...  1.6397398  -2.44084453\n",
      "    1.0854409 ]]\n",
      "\n",
      " [[ 0.30695137 -1.70539472  2.55152962 ...  4.7933713   0.14586106\n",
      "   -1.90116339]\n",
      "  [-0.95005252  4.56746042 -0.66092803 ...  3.64273383 -0.44882345\n",
      "   -1.31578524]]\n",
      "\n",
      " [[-1.41233115 -0.21034882 -0.8736664  ...  1.41879653 -1.8374463\n",
      "    2.37768215]\n",
      "  [ 1.45033349  0.1324052   0.36468729 ...  1.71510204 -0.51885394\n",
      "   -0.52017019]]]\n"
     ]
    }
   ],
   "source": [
    "def expand_circ_mult(w,x): # w has (num_circ, D_X), x has (N, D_X)\n",
    "    x_fft = ifft(x)\n",
    "    x_fft = np.repeat(x_fft[:, None, :], w.shape[0], axis=1)\n",
    "    return np.real(fft(fft(w) * x_fft)).reshape(x.shape[0], -1) # (N, num_circ * D_X)\n",
    "\n",
    "def expand_circ_mult_2(w,x): # w has (num_post, num_circ, D_X), x has (N, D_X)\n",
    "    return np.real(ifft(fft(x, axis=-1)[..., None, None, :] * fft(w, axis=-1), axis=-1)).transpose(1, 2,3,0)\n",
    "truth = np.array([[[b @ A_circ for A_circ in data_sample] for data_sample in post_sample] for post_sample in A])\n",
    "print(\"True\", truth.transpose(0,3,1,2).reshape(100, 2, -1))\n",
    "print(\"FFT-based\", expand_circ_mult_2(a, b).reshape(100, 2, -1))"
   ]
  },
  {
   "cell_type": "code",
   "execution_count": null,
   "id": "b739bedc",
   "metadata": {},
   "outputs": [
    {
     "data": {
      "text/plain": [
       "(100, 3, 4, 4)"
      ]
     },
     "execution_count": 71,
     "metadata": {},
     "output_type": "execute_result"
    }
   ],
   "source": [
    "A.shape\n",
    "# (num_post, num_circ, D_X, D_X)"
   ]
  },
  {
   "cell_type": "code",
   "execution_count": 89,
   "id": "fdb1dfed",
   "metadata": {},
   "outputs": [
    {
     "data": {
      "text/plain": [
       "array([[[ 0.1318192 , -0.24024359, -1.13616728, -1.88626097],\n",
       "        [-0.53544627,  3.16496091, -0.19667205,  3.828675  ]],\n",
       "\n",
       "       [[ 0.79125479, -0.45769794, -0.80911284,  0.20529651],\n",
       "        [-0.57248073,  0.60305945,  0.03534716,  0.47457689]],\n",
       "\n",
       "       [[-1.79361821, -2.37406887,  0.70194307,  2.04252232],\n",
       "        [ 2.31457905,  0.26388806,  1.72524334, -1.4573524 ]]])"
      ]
     },
     "execution_count": 89,
     "metadata": {},
     "output_type": "execute_result"
    }
   ],
   "source": [
    "(b @ A)[0]"
   ]
  },
  {
   "cell_type": "code",
   "execution_count": 130,
   "id": "f9b1a00c",
   "metadata": {},
   "outputs": [
    {
     "name": "stdout",
     "output_type": "stream",
     "text": [
      "[[[ 0.52363488 -0.73852423]\n",
      "  [-1.22758976  3.48728588]\n",
      "  [-1.52798296  0.00640592]\n",
      "  [-0.8989148   3.50635003]]\n",
      "\n",
      " [[ 0.34621344 -0.34181591]\n",
      "  [ 0.66377294  0.23694867]\n",
      "  [-0.36407149 -0.19531766]\n",
      "  [-0.91617437  0.84068766]]\n",
      "\n",
      " [[-2.96829729  2.92341492]\n",
      "  [ 0.58603447 -0.7024551 ]\n",
      "  [ 1.87662215  1.11640747]\n",
      "  [-0.91758101 -0.49100923]]]\n",
      "[[[ 0.52363488 -0.73852423]\n",
      "  [-1.22758976  3.48728588]\n",
      "  [-1.52798296  0.00640592]\n",
      "  [-0.8989148   3.50635003]]\n",
      "\n",
      " [[ 0.34621344 -0.34181591]\n",
      "  [ 0.66377294  0.23694867]\n",
      "  [-0.36407149 -0.19531766]\n",
      "  [-0.91617437  0.84068766]]\n",
      "\n",
      " [[-2.96829729  2.92341492]\n",
      "  [ 0.58603447 -0.7024551 ]\n",
      "  [ 1.87662215  1.11640747]\n",
      "  [-0.91758101 -0.49100923]]]\n"
     ]
    }
   ],
   "source": [
    "# First circ matrix of A\n",
    "print((A[0, :] @ b.T))\n",
    "print(np.real(ifft(fft(b, axis=-1)[..., None, :] * fft(a[0], axis=-1), axis=-1)).transpose(1,2,0))"
   ]
  },
  {
   "cell_type": "code",
   "execution_count": null,
   "id": "70cfcc9b",
   "metadata": {},
   "outputs": [
    {
     "name": "stdout",
     "output_type": "stream",
     "text": [
      "[[[-0.19353404 -0.12143285]\n",
      "  [ 1.03899735 -0.05526067]\n",
      "  [ 0.25784952 -0.42424787]\n",
      "  [-1.14543758  0.68518839]]\n",
      "\n",
      " [[ 0.65099134  0.74912699]\n",
      "  [ 1.26007233  0.17605406]\n",
      "  [-1.62438439  1.32497681]\n",
      "  [-2.18131337  1.53899674]]\n",
      "\n",
      " [[ 0.24917472 -2.04467996]\n",
      "  [-0.52844942  1.35173033]\n",
      "  [ 0.68942005 -2.13052846]\n",
      "  [ 0.52613533  0.95097287]]]\n",
      "[[[-0.19353404 -0.12143285]\n",
      "  [ 1.03899735 -0.05526067]\n",
      "  [ 0.25784952 -0.42424787]\n",
      "  [-1.14543758  0.68518839]]\n",
      "\n",
      " [[ 0.65099134  0.74912699]\n",
      "  [ 1.26007233  0.17605406]\n",
      "  [-1.62438439  1.32497681]\n",
      "  [-2.18131337  1.53899674]]\n",
      "\n",
      " [[ 0.24917472 -2.04467996]\n",
      "  [-0.52844942  1.35173033]\n",
      "  [ 0.68942005 -2.13052846]\n",
      "  [ 0.52613533  0.95097287]]]\n"
     ]
    }
   ],
   "source": [
    "print((A[:, :] @ b.T)[1])\n",
    "print(np.real(ifft(fft(b, axis=-1)[..., None, None, :] * fft(a, axis=-1), axis=-1)).transpose(1, 2,3,0))"
   ]
  },
  {
   "cell_type": "code",
   "execution_count": null,
   "id": "252c4cc8",
   "metadata": {},
   "outputs": [
    {
     "name": "stdout",
     "output_type": "stream",
     "text": [
      "[[-0.72894044  0.33606784 -1.79386313 -0.29740967]\n",
      " [-0.29740967 -0.72894044  0.33606784 -1.79386313]\n",
      " [-1.79386313 -0.29740967 -0.72894044  0.33606784]\n",
      " [ 0.33606784 -1.79386313 -0.29740967 -0.72894044]] [-0.72894044 -0.29740967 -1.79386313  0.33606784]\n"
     ]
    }
   ],
   "source": [
    "print(A[0,0], a[0, 0])"
   ]
  },
  {
   "cell_type": "code",
   "execution_count": 103,
   "id": "2ac8bc93",
   "metadata": {},
   "outputs": [
    {
     "data": {
      "text/plain": [
       "array([[-0.72894044],\n",
       "       [-0.29740967],\n",
       "       [-1.79386313],\n",
       "       [ 0.33606784]])"
      ]
     },
     "execution_count": 103,
     "metadata": {},
     "output_type": "execute_result"
    }
   ],
   "source": [
    "a[0,0].reshape(-1,1)"
   ]
  },
  {
   "cell_type": "code",
   "execution_count": 117,
   "id": "9796b75e",
   "metadata": {},
   "outputs": [
    {
     "data": {
      "text/plain": [
       "(100, 3, 4, 4)"
      ]
     },
     "execution_count": 117,
     "metadata": {},
     "output_type": "execute_result"
    }
   ],
   "source": [
    "A.shape"
   ]
  },
  {
   "cell_type": "code",
   "execution_count": null,
   "id": "bd7c97a3",
   "metadata": {},
   "outputs": [],
   "source": []
  }
 ],
 "metadata": {
  "kernelspec": {
   "display_name": "venv",
   "language": "python",
   "name": "python3"
  },
  "language_info": {
   "codemirror_mode": {
    "name": "ipython",
    "version": 3
   },
   "file_extension": ".py",
   "mimetype": "text/x-python",
   "name": "python",
   "nbconvert_exporter": "python",
   "pygments_lexer": "ipython3",
   "version": "3.11.12"
  }
 },
 "nbformat": 4,
 "nbformat_minor": 5
}
