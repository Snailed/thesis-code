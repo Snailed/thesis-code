{
 "cells": [
  {
   "cell_type": "code",
   "execution_count": 1,
   "metadata": {},
   "outputs": [],
   "source": [
    "import jax\n",
    "import jax.numpy as jnp\n",
    "import jax.random as random\n",
    "from jax.numpy.fft import fft, ifft\n",
    "import matplotlib.pyplot as plt\n",
    "import numpy as np\n",
    "import time"
   ]
  },
  {
   "cell_type": "code",
   "execution_count": 46,
   "metadata": {},
   "outputs": [],
   "source": [
    "@jax.jit\n",
    "def circ_mult(w,x):\n",
    "    return jnp.real(fft(ifft(x.T)*fft(w)).T)\n",
    "\n",
    "circ_vmap = jax.vmap(lambda col, ind: jnp.roll(col, ind), in_axes=(None,0), out_axes=1)\n",
    "\n",
    "@jax.jit\n",
    "def reg_mult(w,x):\n",
    "    C = circ_vmap(w.reshape(1,-1), jnp.arange(D_Z))[0]\n",
    "    return C @ x\n"
   ]
  },
  {
   "cell_type": "code",
   "execution_count": 63,
   "metadata": {},
   "outputs": [
    {
     "name": "stdout",
     "output_type": "stream",
     "text": [
      "Time: 0.0134\n"
     ]
    }
   ],
   "source": [
    "D_Z = 500\n",
    "N = 1\n",
    "w_warm = jax.random.normal(random.PRNGKey(0), (D_Z,))\n",
    "x_warm = jax.random.normal(random.PRNGKey(1), (N,D_Z))\n",
    "w = jax.random.normal(random.PRNGKey(0), (D_Z,))\n",
    "x = jax.random.normal(random.PRNGKey(1), (N,D_Z))\n",
    "C_warm = circ_vmap(w_warm.reshape(1,-1), jnp.arange(D_Z))[0]\n",
    "C_warm @ x_warm.T\n",
    "C_warm @ x_warm.T\n",
    "C_warm @ x_warm.T\n",
    "time_start = time.time()\n",
    "C = circ_vmap(w.reshape(1,-1), jnp.arange(D_Z))[0]\n",
    "jnp.matrix_transpose(C @ x.T) # to get x @ C'\n",
    "time_end = time.time()\n",
    "print(f\"Time: {time_end - time_start:.4f}\")\n",
    "# Z = (N, D_Z)\n",
    "# W = (D_Z, D_Z)\n",
    "# WZ = (Z^T @ W^T)^T\n"
   ]
  },
  {
   "cell_type": "code",
   "execution_count": 64,
   "metadata": {},
   "outputs": [
    {
     "name": "stdout",
     "output_type": "stream",
     "text": [
      "Time: 0.0002\n"
     ]
    }
   ],
   "source": [
    "jnp.real(circ_mult(w_warm, x_warm.T))\n",
    "jnp.real(circ_mult(w_warm, x_warm.T))\n",
    "jnp.real(circ_mult(w_warm, x_warm.T))\n",
    "time_start = time.time()\n",
    "jnp.real(circ_mult(w, x.T))\n",
    "time_end = time.time()\n",
    "print(f\"Time: {time_end - time_start:.4f}\")"
   ]
  },
  {
   "cell_type": "code",
   "execution_count": 72,
   "metadata": {},
   "outputs": [
    {
     "name": "stdout",
     "output_type": "stream",
     "text": [
      "Time: 0.0071. Res shape: (500, 1, 500)\n"
     ]
    }
   ],
   "source": [
    "circ_grad = jax.jacobian(circ_mult)\n",
    "circ_grad(w_warm, x_warm.T)\n",
    "circ_grad(w_warm, x_warm.T)\n",
    "circ_grad(w_warm, x_warm.T)\n",
    "time_start = time.time()\n",
    "res = circ_grad(w, x.T)\n",
    "time_end = time.time()\n",
    "print(f\"Time: {time_end - time_start:.4f}. Res shape: {res.shape}\")"
   ]
  },
  {
   "cell_type": "code",
   "execution_count": 70,
   "metadata": {},
   "outputs": [
    {
     "name": "stdout",
     "output_type": "stream",
     "text": [
      "Time: 0.5629. Res shape: (500, 1, 500)\n"
     ]
    }
   ],
   "source": [
    "mult_grad = jax.jacobian(reg_mult)\n",
    "mult_grad(w_warm, x_warm.T)\n",
    "mult_grad(w_warm, x_warm.T)\n",
    "mult_grad(w_warm, x_warm.T)\n",
    "time_start = time.time()\n",
    "res = mult_grad(w, x.T)\n",
    "time_end = time.time()\n",
    "print(f\"Time: {time_end - time_start:.4f}. Res shape: {res.shape}\")"
   ]
  },
  {
   "cell_type": "code",
   "execution_count": 49,
   "metadata": {},
   "outputs": [
    {
     "data": {
      "text/plain": [
       "(100, 100)"
      ]
     },
     "execution_count": 49,
     "metadata": {},
     "output_type": "execute_result"
    }
   ],
   "source": [
    "reg_mult(w, x.T).shape"
   ]
  },
  {
   "cell_type": "code",
   "execution_count": 50,
   "metadata": {},
   "outputs": [
    {
     "data": {
      "text/plain": [
       "(100, 100)"
      ]
     },
     "execution_count": 50,
     "metadata": {},
     "output_type": "execute_result"
    }
   ],
   "source": [
    "circ_mult(w, x.T).shape"
   ]
  },
  {
   "cell_type": "code",
   "execution_count": 32,
   "metadata": {},
   "outputs": [
    {
     "data": {
      "text/plain": [
       "(100, 100)"
      ]
     },
     "execution_count": 32,
     "metadata": {},
     "output_type": "execute_result"
    }
   ],
   "source": [
    "C.shape"
   ]
  },
  {
   "cell_type": "code",
   "execution_count": null,
   "metadata": {},
   "outputs": [],
   "source": []
  }
 ],
 "metadata": {
  "kernelspec": {
   "display_name": ".venv",
   "language": "python",
   "name": "python3"
  },
  "language_info": {
   "codemirror_mode": {
    "name": "ipython",
    "version": 3
   },
   "file_extension": ".py",
   "mimetype": "text/x-python",
   "name": "python",
   "nbconvert_exporter": "python",
   "pygments_lexer": "ipython3",
   "version": "3.12.8"
  }
 },
 "nbformat": 4,
 "nbformat_minor": 2
}
